{
 "cells": [
  {
   "cell_type": "code",
   "execution_count": 2,
   "metadata": {},
   "outputs": [],
   "source": [
    "import numpy as np"
   ]
  },
  {
   "cell_type": "code",
   "execution_count": 3,
   "metadata": {},
   "outputs": [
    {
     "name": "stdout",
     "output_type": "stream",
     "text": [
      "Printing array \n",
      "\n",
      "[[0.47464198 0.67092775]\n",
      " [0.74340051 0.91953827]\n",
      " [0.48119246 0.61259517]\n",
      " [0.92006371 0.74302385]]\n",
      "\n",
      "\n",
      "(4, 2) \n",
      " 2\n"
     ]
    }
   ],
   "source": [
    "# Ex 1\n",
    "print(\"Printing array \\n\")\n",
    "a = np.random.rand(4,2)\n",
    "print(a)\n",
    "print(\"\\n\")\n",
    "\n",
    "print(a.shape,\"\\n\", a.ndim)\n"
   ]
  },
  {
   "cell_type": "code",
   "execution_count": 4,
   "metadata": {},
   "outputs": [
    {
     "data": {
      "text/plain": [
       "array([[100, 110],\n",
       "       [120, 130],\n",
       "       [140, 150],\n",
       "       [160, 170],\n",
       "       [180, 190]])"
      ]
     },
     "execution_count": 4,
     "metadata": {},
     "output_type": "execute_result"
    }
   ],
   "source": [
    "# ex 2\n",
    "a = np.arange(100,200,10).reshape(5,2)\n",
    "a"
   ]
  },
  {
   "cell_type": "code",
   "execution_count": 5,
   "metadata": {},
   "outputs": [
    {
     "name": "stdout",
     "output_type": "stream",
     "text": [
      "[[11 22 33]\n",
      " [44 55 66]\n",
      " [77 88 99]] \n",
      "\n"
     ]
    },
    {
     "data": {
      "text/plain": [
       "array([33, 66, 99])"
      ]
     },
     "execution_count": 5,
     "metadata": {},
     "output_type": "execute_result"
    }
   ],
   "source": [
    "# ex 3\n",
    "sampleArray = np.array([[11,22,33],[44,55,66],[77,88,99]])\n",
    "print(sampleArray,\"\\n\")\n",
    "sampleArray[:, 2:].flatten()"
   ]
  },
  {
   "cell_type": "code",
   "execution_count": 6,
   "metadata": {},
   "outputs": [
    {
     "data": {
      "text/plain": [
       "array([[ 6, 12],\n",
       "       [30, 36],\n",
       "       [54, 60]])"
      ]
     },
     "execution_count": 6,
     "metadata": {},
     "output_type": "execute_result"
    }
   ],
   "source": [
    "# ex 4\n",
    "sampleArray = np.array([[3,6,9,12],[15,18,21,24],[27,30,33,36],[39,42,45,48],[51,54,57,60]])\n",
    "a = sampleArray\n",
    "a[0::2,1::2]"
   ]
  },
  {
   "cell_type": "code",
   "execution_count": 7,
   "metadata": {},
   "outputs": [
    {
     "data": {
      "text/plain": [
       "array([[ 400, 1521, 1089],\n",
       "       [ 625,  625,  784]])"
      ]
     },
     "execution_count": 7,
     "metadata": {},
     "output_type": "execute_result"
    }
   ],
   "source": [
    "# ex 5\n",
    "arrayOne = np.array([[5,6,9],[21,18,27]])\n",
    "arrayTwo = np.array([[15,33,24],[4,7,1]])\n",
    "result = arrayOne +arrayTwo\n",
    "result\n",
    "result **2\n"
   ]
  },
  {
   "cell_type": "code",
   "execution_count": 8,
   "metadata": {},
   "outputs": [
    {
     "data": {
      "text/plain": [
       "[array([[10, 11, 12],\n",
       "        [13, 14, 15]]),\n",
       " array([[16, 17, 18],\n",
       "        [19, 20, 21]]),\n",
       " array([[22, 23, 24],\n",
       "        [25, 26, 27]]),\n",
       " array([[28, 29, 30],\n",
       "        [31, 32, 33]])]"
      ]
     },
     "execution_count": 8,
     "metadata": {},
     "output_type": "execute_result"
    }
   ],
   "source": [
    "# ex 6\n",
    "res = np.arange(10,34,1).reshape((8,3))\n",
    "res\n",
    "np.vsplit(res,4)"
   ]
  },
  {
   "cell_type": "code",
   "execution_count": 9,
   "metadata": {},
   "outputs": [
    {
     "data": {
      "text/plain": [
       "array([[34, 43, 73],\n",
       "       [82, 22, 12],\n",
       "       [53, 94, 66]])"
      ]
     },
     "execution_count": 9,
     "metadata": {},
     "output_type": "execute_result"
    }
   ],
   "source": [
    "# ex 7\n",
    "a = np.array([[34, 43, 73], [82, 22, 12], [53, 94, 66]])\n",
    "a"
   ]
  },
  {
   "cell_type": "code",
   "execution_count": 10,
   "metadata": {},
   "outputs": [
    {
     "data": {
      "text/plain": [
       "array([[73, 43, 34],\n",
       "       [12, 22, 82],\n",
       "       [66, 94, 53]])"
      ]
     },
     "execution_count": 10,
     "metadata": {},
     "output_type": "execute_result"
    }
   ],
   "source": [
    "# case 1\n",
    "a_new = a\n",
    "b = np.argsort(a[1])\n",
    "b_sorted = a_new[:,b]\n",
    "b_sorted"
   ]
  },
  {
   "cell_type": "code",
   "execution_count": 11,
   "metadata": {},
   "outputs": [
    {
     "data": {
      "text/plain": [
       "array([[82, 22, 12],\n",
       "       [34, 43, 73],\n",
       "       [53, 94, 66]])"
      ]
     },
     "execution_count": 11,
     "metadata": {},
     "output_type": "execute_result"
    }
   ],
   "source": [
    "# case 2\n",
    "c_new = a\n",
    "c = np.argsort(a[:,1])\n",
    "c_sorted = c_new[c]\n",
    "c_sorted"
   ]
  },
  {
   "cell_type": "code",
   "execution_count": 12,
   "metadata": {},
   "outputs": [
    {
     "name": "stdout",
     "output_type": "stream",
     "text": [
      "[34 12 53]\n",
      "[82 94 73]\n"
     ]
    }
   ],
   "source": [
    "# ex 8\n",
    "a = np.array([[34, 43, 73], [82, 22, 12], [53, 94, 66]])\n",
    "a\n",
    "amin = np.min(a, axis = 1)\n",
    "print(amin)\n",
    "amax = np.max(a,axis = 0)\n",
    "print(amax)"
   ]
  },
  {
   "cell_type": "code",
   "execution_count": 13,
   "metadata": {},
   "outputs": [
    {
     "name": "stdout",
     "output_type": "stream",
     "text": [
      "[[34 43 73]\n",
      " [82 22 12]\n",
      " [53 94 66]]\n",
      "[[34 73]\n",
      " [82 12]\n",
      " [53 66]]\n",
      "[[34 10 73]\n",
      " [82 10 12]\n",
      " [53 10 66]]\n"
     ]
    }
   ],
   "source": [
    "# ex 9\n",
    "a = np.array([[34, 43, 73], [82, 22, 12], [53, 94, 66]])\n",
    "newColumn = np.array([[10, 10, 10]])\n",
    "print(a)\n",
    "a = np.delete(a, 1, axis=1)\n",
    "print(a)\n",
    "a = np.insert(a, 1, newColumn, axis=1)\n",
    "print(a)"
   ]
  },
  {
   "cell_type": "code",
   "execution_count": 14,
   "metadata": {},
   "outputs": [
    {
     "data": {
      "text/plain": [
       "array([ 4,  7, 10, 13])"
      ]
     },
     "execution_count": 14,
     "metadata": {},
     "output_type": "execute_result"
    }
   ],
   "source": [
    "np.arange(4,16,3)"
   ]
  }
 ],
 "metadata": {
  "kernelspec": {
   "display_name": "Python 3",
   "language": "python",
   "name": "python3"
  },
  "language_info": {
   "codemirror_mode": {
    "name": "ipython",
    "version": 3
   },
   "file_extension": ".py",
   "mimetype": "text/x-python",
   "name": "python",
   "nbconvert_exporter": "python",
   "pygments_lexer": "ipython3",
   "version": "3.10.5"
  }
 },
 "nbformat": 4,
 "nbformat_minor": 2
}
