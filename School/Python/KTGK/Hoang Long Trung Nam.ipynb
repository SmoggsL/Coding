{
 "cells": [
  {
   "cell_type": "code",
   "execution_count": 1,
   "metadata": {},
   "outputs": [],
   "source": [
    "import pandas as pd\n",
    "import numpy as np\n",
    "import matplotlib.pyplot as plt"
   ]
  },
  {
   "cell_type": "code",
   "execution_count": 2,
   "metadata": {},
   "outputs": [
    {
     "name": "stdout",
     "output_type": "stream",
     "text": [
      "   SO TT TRONG LOP                    NAME\n",
      "0                3          Nguyen Duy Dat\n",
      "1                8          Tran Dang Khoa\n",
      "2               11              Hoang Long\n",
      "3               12       Truong Hoang Long\n",
      "4               14        Nguyen Trung Nam\n",
      "5               22  Nguyen Thi Phuong Thao\n",
      "6               25    Pham Nguyen Dang Tri\n"
     ]
    }
   ],
   "source": [
    "# ex 1\n",
    "d={'SO TT TRONG LOP':[3,8,11,12,14,22,25],\n",
    "   'NAME':['Nguyen Duy Dat',\n",
    "           'Tran Dang Khoa',\n",
    "           'Hoang Long',\n",
    "           'Truong Hoang Long',\n",
    "           'Nguyen Trung Nam',\n",
    "           'Nguyen Thi Phuong Thao',\n",
    "           'Pham Nguyen Dang Tri']}\n",
    "\n",
    "print(pd.DataFrame.from_dict(d))"
   ]
  },
  {
   "cell_type": "code",
   "execution_count": 3,
   "metadata": {},
   "outputs": [
    {
     "name": "stdout",
     "output_type": "stream",
     "text": [
      "Occupation\n",
      "doctor      65000.0\n",
      "engineer    55000.0\n",
      "Name: Salary, dtype: float64\n"
     ]
    }
   ],
   "source": [
    "# ex 2.1\n",
    "data = {\n",
    "    'Name': ['Nguyễn Minh Hoàng', 'Nguyễn Thị Phương Thảo', 'Nguyễn Trọng Thái Sơn', 'Phạm Thời Ngô Huy', 'Phạm Văn Minh Phúc'],\n",
    "    'Occupation': ['engineer', 'doctor', 'doctor', 'doctor', 'engineer'],\n",
    "    'Salary': [60000, 60000, 65000, 70000, 50000]\n",
    "}\n",
    "\n",
    "df = pd.DataFrame(data)\n",
    "avg_salary_by_occupation = df.groupby('Occupation')['Salary'].mean()\n",
    "print(avg_salary_by_occupation) "
   ]
  },
  {
   "cell_type": "code",
   "execution_count": 4,
   "metadata": {},
   "outputs": [
    {
     "name": "stdout",
     "output_type": "stream",
     "text": [
      "     name       occ   salary\n",
      "0   Vinay  engineer      0.0\n",
      "1  Kushal    doctor  70000.0\n",
      "2    Aman  engineer      0.0\n",
      "3   Rahul    doctor  60000.0\n",
      "4  Ramesh    doctor  65000.0\n"
     ]
    },
    {
     "name": "stderr",
     "output_type": "stream",
     "text": [
      "C:\\Users\\USER\\AppData\\Local\\Temp\\ipykernel_19584\\1893042120.py:9: FutureWarning: A value is trying to be set on a copy of a DataFrame or Series through chained assignment using an inplace method.\n",
      "The behavior will change in pandas 3.0. This inplace method will never work because the intermediate object on which we are setting values always behaves as a copy.\n",
      "\n",
      "For example, when doing 'df[col].method(value, inplace=True)', try using 'df.method({col: value}, inplace=True)' or df[col] = df[col].method(value) instead, to perform the operation inplace on the original object.\n",
      "\n",
      "\n",
      "  df['salary'].fillna(0, inplace=True)\n"
     ]
    }
   ],
   "source": [
    "# ex 2.2\n",
    "data = {\n",
    "    'name': ['Vinay', 'Kushal', 'Aman', 'Rahul', 'Ramesh'],\n",
    "    'occ': ['engineer', 'doctor', 'engineer', 'doctor', 'doctor'],\n",
    "    'salary': [np.nan, 70000, np.nan, 60000, 65000]\n",
    "}\n",
    "\n",
    "df = pd.DataFrame(data)\n",
    "df['salary'].fillna(0, inplace=True)\n",
    "print(df)"
   ]
  },
  {
   "cell_type": "code",
   "execution_count": 5,
   "metadata": {},
   "outputs": [
    {
     "name": "stdout",
     "output_type": "stream",
     "text": [
      "                cname  profit\n",
      "0         Shyam & Co.   False\n",
      "1      Ramlal & Bros.    True\n",
      "2  Sharma Enterprises   False\n",
      "3    Verma Furnitures    True\n",
      "4        Rahul Stores    True\n"
     ]
    }
   ],
   "source": [
    "# ex 2.3\n",
    "data = {\n",
    "    'cname': ['Shyam & Co.', 'Ramlal & Bros.', 'Sharma Enterprises', 'Verma Furnitures', 'Rahul Stores'],\n",
    "    'profit': [-10000, 10000, -5000, 15000, 20000]\n",
    "}\n",
    "df = pd.DataFrame(data)\n",
    "df['profit'] = df['profit'].apply(lambda x: True if x > 0 else False)\n",
    "print(df)\n"
   ]
  },
  {
   "cell_type": "code",
   "execution_count": 6,
   "metadata": {},
   "outputs": [
    {
     "name": "stdout",
     "output_type": "stream",
     "text": [
      "   eid   ename  stipend\n",
      "0    1     Sid    10000\n",
      "1    2  Ramesh    10000\n",
      "2    3     Ron     5000\n",
      "3    4   Harry    15000 \n",
      "    eid         position\n",
      "0    1         employee\n",
      "1    2         employee\n",
      "2    3           intern\n",
      "3    4  senior_employee\n"
     ]
    }
   ],
   "source": [
    "# ex 2.4\n",
    "index_ = np.arange(0,4,1)\n",
    "empl = 'employee'\n",
    "inte = 'intern'\n",
    "sen_empl = 'senior_employee'\n",
    "data_1 = [[1,'Sid',10000],[2,'Ramesh',10000],[3,'Ron',5000],[4,'Harry',15000]]\n",
    "data_2 = [[1,empl],[2,empl],[3,inte],[4,sen_empl]]\n",
    "column_1 = ['eid','ename','stipend']\n",
    "column_2 = ['eid','position']\n",
    "df_1 = pd.DataFrame(data_1,index= index_,columns= column_1)\n",
    "df_2 = pd.DataFrame(data_2,index= index_,columns= column_2)\n",
    "print(df_1,\"\\n\",df_2)\n",
    "df_3 = pd.merge(pd.DataFrame(df_1),pd.DataFrame(df_2),on='eid')\n",
    "\n"
   ]
  },
  {
   "cell_type": "code",
   "execution_count": 7,
   "metadata": {},
   "outputs": [
    {
     "name": "stdout",
     "output_type": "stream",
     "text": [
      "            eid       stipend\n",
      "count  4.000000      4.000000\n",
      "mean   2.500000  10000.000000\n",
      "std    1.290994   4082.482905\n",
      "min    1.000000   5000.000000\n",
      "25%    1.750000   8750.000000\n",
      "50%    2.500000  10000.000000\n",
      "75%    3.250000  11250.000000\n",
      "max    4.000000  15000.000000\n"
     ]
    }
   ],
   "source": [
    "# ex 2.5\n",
    "data = {\n",
    "    'eid': [1, 2, 3, 4],\n",
    "    'ename': ['Sid', 'Ramesh', 'Ron', 'Harry'],\n",
    "    'stipend': [10000, 10000, 5000, 15000],\n",
    "    'position': ['employee', 'employee', 'intern', 'senior_employee']\n",
    "}\n",
    "df = pd.DataFrame(data)   \n",
    "\n",
    "print(df.describe())"
   ]
  },
  {
   "cell_type": "code",
   "execution_count": 8,
   "metadata": {},
   "outputs": [
    {
     "name": "stdout",
     "output_type": "stream",
     "text": [
      "   Rank                    Title                     Genre  \\\n",
      "0     1  Guardians of the Galaxy   Action,Adventure,Sci-Fi   \n",
      "1     2               Prometheus  Adventure,Mystery,Sci-Fi   \n",
      "2     3                    Split           Horror,Thriller   \n",
      "3     4                     Sing   Animation,Comedy,Family   \n",
      "4     5            Suicide Squad  Action,Adventure,Fantasy   \n",
      "\n",
      "                                         Description              Director  \\\n",
      "0  A group of intergalactic criminals are forced ...            James Gunn   \n",
      "1  Following clues to the origin of mankind, a te...          Ridley Scott   \n",
      "2  Three girls are kidnapped by a man with a diag...    M. Night Shyamalan   \n",
      "3  In a city of humanoid animals, a hustling thea...  Christophe Lourdelet   \n",
      "4  A secret government agency recruits some of th...            David Ayer   \n",
      "\n",
      "                                              Actors  Year  Runtime (Minutes)  \\\n",
      "0  Chris Pratt, Vin Diesel, Bradley Cooper, Zoe S...  2014                121   \n",
      "1  Noomi Rapace, Logan Marshall-Green, Michael Fa...  2012                124   \n",
      "2  James McAvoy, Anya Taylor-Joy, Haley Lu Richar...  2016                117   \n",
      "3  Matthew McConaughey,Reese Witherspoon, Seth Ma...  2016                108   \n",
      "4  Will Smith, Jared Leto, Margot Robbie, Viola D...  2016                123   \n",
      "\n",
      "   Rating   Votes  Revenue (Millions)  Metascore  \n",
      "0     8.1  757074              333.13       76.0  \n",
      "1     7.0  485820              126.46       65.0  \n",
      "2     7.3  157606              138.12       62.0  \n",
      "3     7.2   60545              270.32       59.0  \n",
      "4     6.2  393727              325.02       40.0  \n",
      "<class 'pandas.core.frame.DataFrame'>\n",
      "RangeIndex: 1000 entries, 0 to 999\n",
      "Data columns (total 12 columns):\n",
      " #   Column              Non-Null Count  Dtype  \n",
      "---  ------              --------------  -----  \n",
      " 0   Rank                1000 non-null   int64  \n",
      " 1   Title               1000 non-null   object \n",
      " 2   Genre               1000 non-null   object \n",
      " 3   Description         1000 non-null   object \n",
      " 4   Director            1000 non-null   object \n",
      " 5   Actors              1000 non-null   object \n",
      " 6   Year                1000 non-null   int64  \n",
      " 7   Runtime (Minutes)   1000 non-null   int64  \n",
      " 8   Rating              1000 non-null   float64\n",
      " 9   Votes               1000 non-null   int64  \n",
      " 10  Revenue (Millions)  872 non-null    float64\n",
      " 11  Metascore           936 non-null    float64\n",
      "dtypes: float64(3), int64(4), object(5)\n",
      "memory usage: 93.9+ KB\n",
      "None\n",
      "Dữ liệu chính xác, chi tiết, rõ ràng, áp dụng kiểu dữ liệu object cho nhiều cột, Metascore có thể xài int64\n"
     ]
    }
   ],
   "source": [
    "# ex 3.1\n",
    "df=pd.read_csv(\"IMDB-Movie-Data.csv\");\n",
    "print(df.head(5));\n",
    "print(df.info());\n",
    "print(\"Dữ liệu chính xác, chi tiết, rõ ràng, áp dụng kiểu dữ liệu object cho nhiều cột, Metascore có thể xài int64\");\n"
   ]
  },
  {
   "cell_type": "code",
   "execution_count": 9,
   "metadata": {},
   "outputs": [
    {
     "name": "stdout",
     "output_type": "stream",
     "text": [
      "0       Action,Adventure,Sci-Fi\n",
      "1      Adventure,Mystery,Sci-Fi\n",
      "2               Horror,Thriller\n",
      "3       Animation,Comedy,Family\n",
      "4      Action,Adventure,Fantasy\n",
      "                 ...           \n",
      "995         Crime,Drama,Mystery\n",
      "996                      Horror\n",
      "997         Drama,Music,Romance\n",
      "998            Adventure,Comedy\n",
      "999       Comedy,Family,Fantasy\n",
      "Name: Genre, Length: 1000, dtype: object\n"
     ]
    }
   ],
   "source": [
    "# ex 3.2\n",
    "se=pd.Series(df[\"Genre\"]);\n",
    "print(se);\n"
   ]
  },
  {
   "cell_type": "code",
   "execution_count": 10,
   "metadata": {},
   "outputs": [
    {
     "name": "stdout",
     "output_type": "stream",
     "text": [
      "                                     Title  Rating  Revenue (Millions)\n",
      "0  Fantastic Beasts and Where to find them     7.5              234.02\n",
      "1                           Hidden figures     7.8              169.27\n",
      "2                                Rogue One     7.9              532.17\n",
      "3                                    Moana     7.7              248.75\n",
      "4                                 Colossal     6.4                2.87\n"
     ]
    }
   ],
   "source": [
    "# ex 3.3\n",
    "newdata= {'Title': ['Fantastic Beasts and Where to find them', 'Hidden figures', 'Rogue One', 'Moana', 'Colossal'], 'Rating': [7.5, 7.8, 7.9 , 7.7, 6.4], 'Revenue (Millions)': [234.02, 169.27, 532.17, 248.75, 2.87]}\n",
    "newd=pd.DataFrame(newdata);\n",
    "print(newd);"
   ]
  },
  {
   "cell_type": "code",
   "execution_count": 11,
   "metadata": {},
   "outputs": [
    {
     "data": {
      "text/html": [
       "<div>\n",
       "<style scoped>\n",
       "    .dataframe tbody tr th:only-of-type {\n",
       "        vertical-align: middle;\n",
       "    }\n",
       "\n",
       "    .dataframe tbody tr th {\n",
       "        vertical-align: top;\n",
       "    }\n",
       "\n",
       "    .dataframe thead th {\n",
       "        text-align: right;\n",
       "    }\n",
       "</style>\n",
       "<table border=\"1\" class=\"dataframe\">\n",
       "  <thead>\n",
       "    <tr style=\"text-align: right;\">\n",
       "      <th></th>\n",
       "      <th>Rank</th>\n",
       "      <th>Title</th>\n",
       "      <th>Genre</th>\n",
       "      <th>Description</th>\n",
       "      <th>Director</th>\n",
       "      <th>Actors</th>\n",
       "      <th>Year</th>\n",
       "      <th>Runtime (Minutes)</th>\n",
       "      <th>Rating</th>\n",
       "      <th>Votes</th>\n",
       "    </tr>\n",
       "  </thead>\n",
       "  <tbody>\n",
       "    <tr>\n",
       "      <th>941</th>\n",
       "      <td>942</td>\n",
       "      <td>The Twilight Saga: Eclipse</td>\n",
       "      <td>Adventure,Drama,Fantasy</td>\n",
       "      <td>As a string of mysterious killings grips Seatt...</td>\n",
       "      <td>David Slade</td>\n",
       "      <td>Kristen Stewart, Robert Pattinson, Taylor Laut...</td>\n",
       "      <td>2010</td>\n",
       "      <td>124</td>\n",
       "      <td>4.9</td>\n",
       "      <td>192740</td>\n",
       "    </tr>\n",
       "  </tbody>\n",
       "</table>\n",
       "</div>"
      ],
      "text/plain": [
       "     Rank                       Title                    Genre  \\\n",
       "941   942  The Twilight Saga: Eclipse  Adventure,Drama,Fantasy   \n",
       "\n",
       "                                           Description     Director  \\\n",
       "941  As a string of mysterious killings grips Seatt...  David Slade   \n",
       "\n",
       "                                                Actors  Year  \\\n",
       "941  Kristen Stewart, Robert Pattinson, Taylor Laut...  2010   \n",
       "\n",
       "     Runtime (Minutes)  Rating   Votes  \n",
       "941                124     4.9  192740  "
      ]
     },
     "execution_count": 11,
     "metadata": {},
     "output_type": "execute_result"
    }
   ],
   "source": [
    "# 3.4\n",
    "top5 = df['Revenue (Millions)'].quantile(0.95)\n",
    "M = df[(df['Year'] >= 2010) &\n",
    "    (df['Year'] <= 2015) &\n",
    "    (df['Rating'] < 6.0) &\n",
    "    (df['Revenue (Millions)'] > top5)]\n",
    "M[['Rank', 'Title', 'Genre', 'Description','Director', 'Actors', 'Year', 'Runtime (Minutes)', 'Rating', 'Votes',]]"
   ]
  },
  {
   "cell_type": "code",
   "execution_count": 12,
   "metadata": {},
   "outputs": [
    {
     "data": {
      "text/plain": [
       "Director\n",
       "Aamir Khan             8.5\n",
       "Abdellatif Kechiche    7.8\n",
       "Adam Leon              6.5\n",
       "Adam McKay             7.0\n",
       "Adam Shankman          6.3\n",
       "Name: Rating, dtype: float64"
      ]
     },
     "execution_count": 12,
     "metadata": {},
     "output_type": "execute_result"
    }
   ],
   "source": [
    "# 3.5\n",
    "df.groupby('Director').Rating.mean().head()"
   ]
  },
  {
   "cell_type": "code",
   "execution_count": 13,
   "metadata": {},
   "outputs": [
    {
     "data": {
      "text/html": [
       "<div>\n",
       "<style scoped>\n",
       "    .dataframe tbody tr th:only-of-type {\n",
       "        vertical-align: middle;\n",
       "    }\n",
       "\n",
       "    .dataframe tbody tr th {\n",
       "        vertical-align: top;\n",
       "    }\n",
       "\n",
       "    .dataframe thead th {\n",
       "        text-align: right;\n",
       "    }\n",
       "</style>\n",
       "<table border=\"1\" class=\"dataframe\">\n",
       "  <thead>\n",
       "    <tr style=\"text-align: right;\">\n",
       "      <th></th>\n",
       "      <th>Director</th>\n",
       "      <th>Average_rating</th>\n",
       "    </tr>\n",
       "  </thead>\n",
       "  <tbody>\n",
       "    <tr>\n",
       "      <th>465</th>\n",
       "      <td>Nitesh Tiwari</td>\n",
       "      <td>8.80</td>\n",
       "    </tr>\n",
       "    <tr>\n",
       "      <th>108</th>\n",
       "      <td>Christopher Nolan</td>\n",
       "      <td>8.68</td>\n",
       "    </tr>\n",
       "    <tr>\n",
       "      <th>470</th>\n",
       "      <td>Olivier Nakache</td>\n",
       "      <td>8.60</td>\n",
       "    </tr>\n",
       "    <tr>\n",
       "      <th>392</th>\n",
       "      <td>Makoto Shinkai</td>\n",
       "      <td>8.60</td>\n",
       "    </tr>\n",
       "    <tr>\n",
       "      <th>0</th>\n",
       "      <td>Aamir Khan</td>\n",
       "      <td>8.50</td>\n",
       "    </tr>\n",
       "  </tbody>\n",
       "</table>\n",
       "</div>"
      ],
      "text/plain": [
       "              Director  Average_rating\n",
       "465      Nitesh Tiwari            8.80\n",
       "108  Christopher Nolan            8.68\n",
       "470    Olivier Nakache            8.60\n",
       "392     Makoto Shinkai            8.60\n",
       "0           Aamir Khan            8.50"
      ]
     },
     "execution_count": 13,
     "metadata": {},
     "output_type": "execute_result"
    }
   ],
   "source": [
    "# 3.6\n",
    "ans = df.groupby('Director')['Rating'].mean().reset_index()\n",
    "ans.columns = ['Director', 'Average_rating']\n",
    "ans = ans.sort_values(by='Average_rating', ascending=False)\n",
    "ans.head()"
   ]
  },
  {
   "cell_type": "code",
   "execution_count": 14,
   "metadata": {},
   "outputs": [
    {
     "data": {
      "text/html": [
       "<div>\n",
       "<style scoped>\n",
       "    .dataframe tbody tr th:only-of-type {\n",
       "        vertical-align: middle;\n",
       "    }\n",
       "\n",
       "    .dataframe tbody tr th {\n",
       "        vertical-align: top;\n",
       "    }\n",
       "\n",
       "    .dataframe thead th {\n",
       "        text-align: right;\n",
       "    }\n",
       "</style>\n",
       "<table border=\"1\" class=\"dataframe\">\n",
       "  <thead>\n",
       "    <tr style=\"text-align: right;\">\n",
       "      <th></th>\n",
       "      <th>column</th>\n",
       "      <th>missing_values</th>\n",
       "    </tr>\n",
       "  </thead>\n",
       "  <tbody>\n",
       "    <tr>\n",
       "      <th>0</th>\n",
       "      <td>Rank</td>\n",
       "      <td>0</td>\n",
       "    </tr>\n",
       "    <tr>\n",
       "      <th>1</th>\n",
       "      <td>Title</td>\n",
       "      <td>0</td>\n",
       "    </tr>\n",
       "    <tr>\n",
       "      <th>2</th>\n",
       "      <td>Genre</td>\n",
       "      <td>0</td>\n",
       "    </tr>\n",
       "    <tr>\n",
       "      <th>3</th>\n",
       "      <td>Description</td>\n",
       "      <td>0</td>\n",
       "    </tr>\n",
       "    <tr>\n",
       "      <th>4</th>\n",
       "      <td>Director</td>\n",
       "      <td>0</td>\n",
       "    </tr>\n",
       "    <tr>\n",
       "      <th>5</th>\n",
       "      <td>Actors</td>\n",
       "      <td>0</td>\n",
       "    </tr>\n",
       "    <tr>\n",
       "      <th>6</th>\n",
       "      <td>Year</td>\n",
       "      <td>0</td>\n",
       "    </tr>\n",
       "    <tr>\n",
       "      <th>7</th>\n",
       "      <td>Runtime (Minutes)</td>\n",
       "      <td>0</td>\n",
       "    </tr>\n",
       "    <tr>\n",
       "      <th>8</th>\n",
       "      <td>Rating</td>\n",
       "      <td>0</td>\n",
       "    </tr>\n",
       "    <tr>\n",
       "      <th>9</th>\n",
       "      <td>Votes</td>\n",
       "      <td>0</td>\n",
       "    </tr>\n",
       "    <tr>\n",
       "      <th>10</th>\n",
       "      <td>Revenue (Millions)</td>\n",
       "      <td>128</td>\n",
       "    </tr>\n",
       "    <tr>\n",
       "      <th>11</th>\n",
       "      <td>Metascore</td>\n",
       "      <td>64</td>\n",
       "    </tr>\n",
       "  </tbody>\n",
       "</table>\n",
       "</div>"
      ],
      "text/plain": [
       "                column  missing_values\n",
       "0                 Rank               0\n",
       "1                Title               0\n",
       "2                Genre               0\n",
       "3          Description               0\n",
       "4             Director               0\n",
       "5               Actors               0\n",
       "6                 Year               0\n",
       "7    Runtime (Minutes)               0\n",
       "8               Rating               0\n",
       "9                Votes               0\n",
       "10  Revenue (Millions)             128\n",
       "11           Metascore              64"
      ]
     },
     "execution_count": 14,
     "metadata": {},
     "output_type": "execute_result"
    }
   ],
   "source": [
    "# 3.7\n",
    "A = df.isnull().sum().reset_index()\n",
    "A.columns = ['column', 'missing_values']\n",
    "A\n"
   ]
  },
  {
   "cell_type": "code",
   "execution_count": 15,
   "metadata": {},
   "outputs": [
    {
     "data": {
      "text/html": [
       "<div>\n",
       "<style scoped>\n",
       "    .dataframe tbody tr th:only-of-type {\n",
       "        vertical-align: middle;\n",
       "    }\n",
       "\n",
       "    .dataframe tbody tr th {\n",
       "        vertical-align: top;\n",
       "    }\n",
       "\n",
       "    .dataframe thead th {\n",
       "        text-align: right;\n",
       "    }\n",
       "</style>\n",
       "<table border=\"1\" class=\"dataframe\">\n",
       "  <thead>\n",
       "    <tr style=\"text-align: right;\">\n",
       "      <th></th>\n",
       "      <th>Title</th>\n",
       "      <th>Director</th>\n",
       "      <th>Rating</th>\n",
       "      <th>Rating_category</th>\n",
       "    </tr>\n",
       "  </thead>\n",
       "  <tbody>\n",
       "    <tr>\n",
       "      <th>0</th>\n",
       "      <td>Guardians of the Galaxy</td>\n",
       "      <td>James Gunn</td>\n",
       "      <td>8.1</td>\n",
       "      <td>Good</td>\n",
       "    </tr>\n",
       "    <tr>\n",
       "      <th>1</th>\n",
       "      <td>Prometheus</td>\n",
       "      <td>Ridley Scott</td>\n",
       "      <td>7.0</td>\n",
       "      <td>Average</td>\n",
       "    </tr>\n",
       "    <tr>\n",
       "      <th>2</th>\n",
       "      <td>Split</td>\n",
       "      <td>M. Night Shyamalan</td>\n",
       "      <td>7.3</td>\n",
       "      <td>Average</td>\n",
       "    </tr>\n",
       "    <tr>\n",
       "      <th>3</th>\n",
       "      <td>Sing</td>\n",
       "      <td>Christophe Lourdelet</td>\n",
       "      <td>7.2</td>\n",
       "      <td>Average</td>\n",
       "    </tr>\n",
       "    <tr>\n",
       "      <th>4</th>\n",
       "      <td>Suicide Squad</td>\n",
       "      <td>David Ayer</td>\n",
       "      <td>6.2</td>\n",
       "      <td>Average</td>\n",
       "    </tr>\n",
       "  </tbody>\n",
       "</table>\n",
       "</div>"
      ],
      "text/plain": [
       "                     Title              Director  Rating Rating_category\n",
       "0  Guardians of the Galaxy            James Gunn     8.1            Good\n",
       "1               Prometheus          Ridley Scott     7.0         Average\n",
       "2                    Split    M. Night Shyamalan     7.3         Average\n",
       "3                     Sing  Christophe Lourdelet     7.2         Average\n",
       "4            Suicide Squad            David Ayer     6.2         Average"
      ]
     },
     "execution_count": 15,
     "metadata": {},
     "output_type": "execute_result"
    }
   ],
   "source": [
    "# 3.8\n",
    "def categorize_rating(rating):\n",
    "    if rating >= 8:\n",
    "        return 'Good'\n",
    "    elif rating >= 5 and rating < 8:\n",
    "        return 'Average'\n",
    "    else:\n",
    "        return 'Bad'\n",
    "df['Rating_category'] = df['Rating'].apply(categorize_rating)\n",
    "df[['Title', 'Director', 'Rating', 'Rating_category']].head()"
   ]
  },
  {
   "cell_type": "code",
   "execution_count": 16,
   "metadata": {},
   "outputs": [],
   "source": [
    "pf=pd.read_csv('MelaSales.csv')"
   ]
  },
  {
   "cell_type": "code",
   "execution_count": 17,
   "metadata": {},
   "outputs": [],
   "source": [
    "x_vals=np.arange(1, 8, 1)\n",
    "y_vals=pf ['Week1'].tolist()\n",
    "y1_vals=pf ['Week2'].tolist()\n",
    "y2_vals=pf ['Week3'].tolist()"
   ]
  },
  {
   "cell_type": "code",
   "execution_count": 18,
   "metadata": {},
   "outputs": [
    {
     "data": {
      "image/png": "[encoded data removed]",
      "text/plain": [
       "<Figure size 640x480 with 1 Axes>"
      ]
     },
     "metadata": {},
     "output_type": "display_data"
    }
   ],
   "source": [
    "# 4.1\n",
    "plt.bar([a-0.25 for a in x_vals], y_vals, width= 0.25, label = 'Week1', align='edge')\n",
    "plt.bar([a for a in x_vals], y1_vals, width= 0.25, label = 'Week2', align='edge')\n",
    "plt.bar([a+0.25 for a in x_vals], y2_vals, width= 0.25, label = 'Week3', align='edge')\n",
    "plt.legend(loc=\"upper left\")\n",
    "plt.title('Mega Sales Report')\n",
    "plt.xlabel('Days')\n",
    "plt.ylabel('Sales in Rs')\n",
    "plt.xticks(x_vals, ['Monday', 'Tuesday', 'Wednesday', 'Thursday', 'Friday', 'Saturday', 'Sunday'], rotation='vertical')\n",
    "plt.show()\n",
    "\n"
   ]
  },
  {
   "cell_type": "code",
   "execution_count": 19,
   "metadata": {},
   "outputs": [
    {
     "data": {
      "text/plain": [
       "{'Name': ['Arnav', 'Sheela', 'Azhar', 'Bincy', 'Yash', 'Nazar'],\n",
       " 'Height': [60, 61, 63, 65, 61, 60],\n",
       " 'Weight': [47, 89, 52, 58, 50, 47]}"
      ]
     },
     "execution_count": 19,
     "metadata": {},
     "output_type": "execute_result"
    }
   ],
   "source": [
    "# 4.2\n",
    "A = {\n",
    "    'Name': ['Arnav', 'Sheela', 'Azhar', 'Bincy', 'Yash', 'Nazar'],\n",
    "    'Height': [60, 61, 63, 65, 61, 60],\n",
    "    'Weight': [47, 89, 52, 58, 50, 47]}\n",
    "A"
   ]
  },
  {
   "cell_type": "code",
   "execution_count": 20,
   "metadata": {},
   "outputs": [
    {
     "data": {
      "text/plain": [
       "<Axes: ylabel='Frequency'>"
      ]
     },
     "execution_count": 20,
     "metadata": {},
     "output_type": "execute_result"
    },
    {
     "data": {
      "image/png": "[encoded data removed]",
      "text/plain": [
       "<Figure size 640x480 with 1 Axes>"
      ]
     },
     "metadata": {},
     "output_type": "display_data"
    }
   ],
   "source": [
    "df = pd.DataFrame.from_dict(A)\n",
    "df.plot.hist()"
   ]
  },
  {
   "cell_type": "code",
   "execution_count": 21,
   "metadata": {},
   "outputs": [],
   "source": [
    "pf = pd.read_csv('iris_data.csv')"
   ]
  },
  {
   "cell_type": "code",
   "execution_count": 22,
   "metadata": {},
   "outputs": [
    {
     "data": {
      "text/plain": [
       "Text(0.5, 0, 'Sepal Length in cm')"
      ]
     },
     "execution_count": 22,
     "metadata": {},
     "output_type": "execute_result"
    },
    {
     "data": {
      "image/png": "[encoded data removed]",
      "text/plain": [
       "<Figure size 640x480 with 1 Axes>"
      ]
     },
     "metadata": {},
     "output_type": "display_data"
    }
   ],
   "source": [
    "x_vals= pf ['sepal_length'].tolist()\n",
    "y_vals= pf ['petal_length'].tolist()\n",
    "plt.scatter(x_vals, y_vals, c=\"red\", linewidths=1, s=10)\n",
    "plt.title('Sepal Length vs Petal Length')\n",
    "plt.xticks=np.arange(4.5, 8.5, 0.5)\n",
    "plt.grid(True)\n",
    "plt.ylabel('Petal Length in cm')\n",
    "plt.xlabel('Sepal Length in cm')"
   ]
  }
 ],
 "metadata": {
  "kernelspec": {
   "display_name": "Python 3",
   "language": "python",
   "name": "python3"
  },
  "language_info": {
   "codemirror_mode": {
    "name": "ipython",
    "version": 3
   },
   "file_extension": ".py",
   "mimetype": "text/x-python",
   "name": "python",
   "nbconvert_exporter": "python",
   "pygments_lexer": "ipython3",
   "version": "3.10.5"
  }
 },
 "nbformat": 4,
 "nbformat_minor": 2
}
